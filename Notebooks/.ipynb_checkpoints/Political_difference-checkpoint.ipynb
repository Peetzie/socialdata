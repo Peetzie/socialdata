{
 "cells": [
  {
   "cell_type": "code",
   "execution_count": 9,
   "id": "5434f530-beec-4097-9ae5-9fa15bef2f04",
   "metadata": {},
   "outputs": [
    {
     "name": "stdout",
     "output_type": "stream",
     "text": [
      "     state_name  county_fips        county_name  votes_gop  votes_dem  \\\n",
      "0       Alabama         1001     Autauga County      19838       7503   \n",
      "1       Alabama         1003     Baldwin County      83544      24578   \n",
      "2       Alabama         1005     Barbour County       5622       4816   \n",
      "3       Alabama         1007        Bibb County       7525       1986   \n",
      "4       Alabama         1009      Blount County      24711       2640   \n",
      "...         ...          ...                ...        ...        ...   \n",
      "3147    Wyoming        56037  Sweetwater County      12229       3823   \n",
      "3148    Wyoming        56039       Teton County       4341       9848   \n",
      "3149    Wyoming        56041       Uinta County       7496       1591   \n",
      "3150    Wyoming        56043    Washakie County       3245        651   \n",
      "3151    Wyoming        56045      Weston County       3107        360   \n",
      "\n",
      "      total_votes   diff   per_gop   per_dem  per_point_diff  \n",
      "0           27770  12335  0.714368  0.270184        0.444184  \n",
      "1          109679  58966  0.761714  0.224090        0.537623  \n",
      "2           10518    806  0.534512  0.457882        0.076631  \n",
      "3            9595   5539  0.784263  0.206983        0.577280  \n",
      "4           27588  22071  0.895716  0.095694        0.800022  \n",
      "...           ...    ...       ...       ...             ...  \n",
      "3147        16603   8406  0.736554  0.230260        0.506294  \n",
      "3148        14677  -5507  0.295769  0.670982       -0.375213  \n",
      "3149         9402   5905  0.797277  0.169219        0.628058  \n",
      "3150         4012   2594  0.808824  0.162263        0.646560  \n",
      "3151         3542   2747  0.877188  0.101637        0.775551  \n",
      "\n",
      "[3152 rows x 10 columns]\n"
     ]
    }
   ],
   "source": [
    "import sys\n",
    "import numpy as np\n",
    "import pandas as pd\n",
    "\n",
    "poldat = pd.read_csv(\"../Datasets/2020_US_County_Level_Presidential_Results.csv\", delimiter=\",\")\n",
    "\n",
    "print(poldat)\n"
   ]
  }
 ],
 "metadata": {
  "kernelspec": {
   "display_name": "Python 3 (ipykernel)",
   "language": "python",
   "name": "python3"
  },
  "language_info": {
   "codemirror_mode": {
    "name": "ipython",
    "version": 3
   },
   "file_extension": ".py",
   "mimetype": "text/x-python",
   "name": "python",
   "nbconvert_exporter": "python",
   "pygments_lexer": "ipython3",
   "version": "3.9.7"
  }
 },
 "nbformat": 4,
 "nbformat_minor": 5
}
