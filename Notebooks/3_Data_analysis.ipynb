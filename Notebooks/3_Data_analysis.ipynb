{
 "cells": [
  {
   "cell_type": "markdown",
   "id": "03ad366a-6a97-406d-9438-af4d47e314ba",
   "metadata": {},
   "source": [
    "Data analysis\n",
    "\n",
    "Describe your data analysis and explain what you've learned about the dataset. *If relevant, talk about your machine-learning.\n",
    "\n",
    "## Food Enviornment Index\n",
    "\n",
    "The Food Environment Index ranges from a scale of 0 (worst) to 10 (best) and equally weights two indicators of the food environment:\n",
    "\n",
    "1) Limited access to healthy foods estimates the percentage of the population that is low income and does not live close to a grocery store. Low income is defined as having an annual family income of less than or equal to 200 percent of the federal poverty threshold for the family size. Living close to a grocery store is defined differently in rural and nonrural areas; in rural areas, it means living less than 10 miles from a grocery store whereas in nonrural areas, it means less than 1 mile.\n",
    "\n",
    "2) Food insecurity estimates the percentage of the population that did not have access to a reliable source of food during the past year. A two-stage fixed effects model was created using information from the Community Population Survey, Bureau of Labor Statistics, and American Community Survey to estimate food insecurity.\n",
    "\n",
    "The food enviornment for each state can be seen in the plot below:\n",
    "\n",
    "<img src=\"../Visulisations/FoodEnv.png\" width=\"800\" height=\"600\">\n",
    "\n",
    "and the US map where each county is colored by its FoodEnviornment Index:\n",
    "\n",
    "<img src=\"../Visulisations/FoodEnvMap.png\" width=\"1600\" height=\"600\">\n",
    "\n",
    "All in All the FE index seem to be rather high. With the lowest scoring state being Missisipi with a score around 4, and the top being New Jeresey holding a really high score. It seems as if the FE index is lowest in the states in the middel of the US, and perhaps the counties with a low FE index are also the ones with a lot of deseret or farm land, where as the bigger cities can supply a great alternative to the fast food chains in some healthy food options. The Index does take into account if the area is a rural or nonrural, and therefore the aspect of if you live in a city or not should not impact the Index that much.\n",
    "\n",
    "* compare FE index to the location of fastfood chains?"
   ]
  },
  {
   "cell_type": "markdown",
   "id": "089367d8-41f6-4a17-ad4a-1df67b2b0475",
   "metadata": {},
   "source": [
    "## Predicting Obesity\n",
    "\n",
    "To get a sense of correlation or consistency in the data, we choose to see if we could predict wether or not 1/3 of the adults in a state were obese or not. We choose 1/3 since the median of the obesity column was 34 (`health['adult_obesity_% Adults with Obesity'].median() = 34`), leaving us with somewhat a dataset split into two. The new column `is_obese` was then introduced as a response variable and the obesity column omitted. The prediction we did was a simple `Decisiontreeclassifier` to quickly try and get a prediction and therefore a possible tendency in the data. Firstly the correlation heatmap is computed to check for any surprising correlations in the data:\n",
    "\n",
    "\n",
    "<img src=\"../Visulisations/corrHeat.png\"  width=\"600\" height=\"600\">\n",
    "\n",
    "The correlation heatmap gives some information about what features are correlated. The highest correlation around 0.9 is found between `poor_physical_health_days` and `poor_mental_health_days`. These features are self surveyed from citizens, which means that people could tend to say that a poor physical health day is also a poor mental health day. It seems that the numbers correlate at least.\n",
    "Another high correlating factor is the `smoking` together with `Potential_Life_Lost_Rate` aswell as the two previous features, `poor_physical_health_days` and `poor_mental_health_days`. It seems that in counties where a great percentage of the adult population smoke, they also seem to lose potential years of life aswell as their amount of poor mental and physical health days increase. `smoking` could seem to be a great indicator of the unhealthy counties\n",
    "\n",
    "The confusion matrix was computed as seen below:\n",
    "\n",
    "<img src=\"../Visulisations/confusionMatrix.png\"  width=\"500\" height=\"400\">\n",
    "\n",
    "\n",
    "With the different results from the confusion matrix:\n",
    "\n",
    "* Accuracy of the model: 0.66\n",
    "* Precision of the model: 0.7009966777408638\n",
    "* recall of the model: 0.7250859106529209\n",
    "* F1-score of the model: 0.7128378378378377"
   ]
  },
  {
   "cell_type": "markdown",
   "id": "ff9543a4",
   "metadata": {},
   "source": []
  }
 ],
 "metadata": {
  "kernelspec": {
   "display_name": "Python 3 (ipykernel)",
   "language": "python",
   "name": "python3"
  },
  "language_info": {
   "codemirror_mode": {
    "name": "ipython",
    "version": 3
   },
   "file_extension": ".py",
   "mimetype": "text/x-python",
   "name": "python",
   "nbconvert_exporter": "python",
   "pygments_lexer": "ipython3",
   "version": "3.9.7"
  }
 },
 "nbformat": 4,
 "nbformat_minor": 5
}
